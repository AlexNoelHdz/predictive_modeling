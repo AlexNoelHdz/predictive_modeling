{
 "cells": [
  {
   "cell_type": "code",
   "execution_count": 5,
   "metadata": {},
   "outputs": [],
   "source": [
    "# Librerías\n",
    "import pandas as pd\n",
    "from sklearn.model_selection import train_test_split\n",
    "from sklearn import svm\n",
    "from sklearn.metrics import (accuracy_score,\n",
    "                             precision_score,\n",
    "                             recall_score)\n",
    "import pandas as pd\n",
    "from sklearn.model_selection import train_test_split\n",
    "import warnings\n",
    "warnings.filterwarnings('ignore')"
   ]
  },
  {
   "cell_type": "code",
   "execution_count": 6,
   "metadata": {},
   "outputs": [
    {
     "name": "stdout",
     "output_type": "stream",
     "text": [
      "<class 'pandas.core.frame.DataFrame'>\n",
      "RangeIndex: 20058 entries, 0 to 20057\n",
      "Data columns (total 12 columns):\n",
      " #   Column                 Non-Null Count  Dtype\n",
      "---  ------                 --------------  -----\n",
      " 0   turns                  20058 non-null  int64\n",
      " 1   white_rating           20058 non-null  int64\n",
      " 2   black_rating           20058 non-null  int64\n",
      " 3   opening_moves          20058 non-null  int64\n",
      " 4   victory_status_cod     20058 non-null  int64\n",
      " 5   winner_cod             20058 non-null  int64\n",
      " 6   time_increment_cod     20058 non-null  int64\n",
      " 7   opening_code_cod       20058 non-null  int64\n",
      " 8   opening_fullname_cod   20058 non-null  int64\n",
      " 9   opening_shortname_cod  20058 non-null  int64\n",
      " 10  opening_variation_cod  20058 non-null  int64\n",
      " 11  rated_cod              20058 non-null  int64\n",
      "dtypes: int64(12)\n",
      "memory usage: 1.8 MB\n"
     ]
    }
   ],
   "source": [
    "project_path = \"../bridge_project\"\n",
    "df_original = pd.read_csv(f\"{project_path}/df1_original_cod.csv\")\n",
    "df_original.info()"
   ]
  },
  {
   "cell_type": "code",
   "execution_count": 7,
   "metadata": {},
   "outputs": [],
   "source": [
    "def eval_perform(Y,Yhat, train_or_test):\n",
    "    \"\"\"Evalúa el performance de cada modelo\n",
    "\n",
    "    Args:\n",
    "        Y (array): Variable objetivo original\n",
    "        Yhat (array): Salida Y & \"hat\" (ŷ) que denota predicciones estimadas.\n",
    "        train_or_test (string): \"Entrenamiento\" o \"Prueba\"\n",
    "    \"\"\"\n",
    "    accu = accuracy_score(Y,Yhat)\n",
    "    prec = precision_score(Y,Yhat,average='weighted')\n",
    "    reca = recall_score(Y,Yhat,average='weighted')\n",
    "    print(f\"\\nPerformance del modelo de {train_or_test}\")\n",
    "    print('Accu \\t Prec \\t Reca\\n Eval \\t %0.3f \\t %0.3f \\t %0.3f'%(accu,prec,reca))"
   ]
  },
  {
   "cell_type": "markdown",
   "metadata": {},
   "source": [
    "# Df sin columnas altamente correlacionadas. \n",
    "Igual a df1 pero removiendo columnas correlacionadas:\n",
    "- opening_fullname_cod se removió \n",
    "- black_raiting se removió\n",
    "- opening_code_cod se removió"
   ]
  },
  {
   "cell_type": "code",
   "execution_count": 8,
   "metadata": {},
   "outputs": [],
   "source": [
    "df = df_original.copy()\n",
    "y_name = \"winner_cod\"\n",
    "# X es el dataframe eliminando la variable de salida\n",
    "X = df.drop(columns=[y_name])\n",
    "# Y es un array unidimensional (ravel) de la variable de salida\n",
    "Y = df[y_name].ravel()\n",
    "X_train, X_test, Y_train, Y_test = train_test_split(X, Y,test_size=0.3)"
   ]
  },
  {
   "cell_type": "markdown",
   "metadata": {},
   "source": [
    "# Regresión logística"
   ]
  },
  {
   "cell_type": "code",
   "execution_count": 9,
   "metadata": {},
   "outputs": [
    {
     "name": "stdout",
     "output_type": "stream",
     "text": [
      "\n",
      "Performance del modelo de Prueba\n",
      "Accu \t Prec \t Reca\n",
      " Eval \t 0.681 \t 0.682 \t 0.681\n",
      "\n",
      "Performance del modelo de Entrenamiento\n",
      "Accu \t Prec \t Reca\n",
      " Eval \t 0.663 \t 0.664 \t 0.663\n"
     ]
    }
   ],
   "source": [
    "from sklearn.linear_model import LogisticRegression\n",
    "# Comparacion con regresion logistica\n",
    "# Usar regularización L1 (Lasso)\n",
    "reg_log = LogisticRegression(penalty='l1', solver='liblinear', max_iter=1000)\n",
    "reg_log.fit(X_train,Y_train)\n",
    "# Salida Y & \"hat\" (ŷ) que denota predicciones estimadas.\n",
    "Yhat_log_test = reg_log.predict(X_test)\n",
    "Yhat_log_train = reg_log.predict(X_train)\n",
    "eval_perform(Y_test,Yhat_log_test, \"Prueba\")\n",
    "eval_perform(Y_train,Yhat_log_train, \"Entrenamiento\")"
   ]
  },
  {
   "cell_type": "markdown",
   "metadata": {},
   "source": [
    "# XGboost de ejemplo para comparar el performance (datos originales)"
   ]
  },
  {
   "cell_type": "code",
   "execution_count": 10,
   "metadata": {},
   "outputs": [
    {
     "name": "stdout",
     "output_type": "stream",
     "text": [
      "\n",
      "Performance del modelo de Prueba\n",
      "Accu \t Prec \t Reca\n",
      " Eval \t 0.884 \t 0.884 \t 0.884\n",
      "\n",
      "Performance del modelo de Entrenamiento\n",
      "Accu \t Prec \t Reca\n",
      " Eval \t 0.954 \t 0.954 \t 0.954\n"
     ]
    }
   ],
   "source": [
    "import xgboost as xgb\n",
    "# Crear un clasificador XGBoost\n",
    "xgboost = xgb.XGBClassifier()\n",
    "\n",
    "# Entrenar el modelo en los datos de entrenamiento\n",
    "xgboost.fit(X_train, Y_train)\n",
    "Yhat_xgboost_test = xgboost.predict(X_test)\n",
    "Yhat_xgboost_train = xgboost.predict(X_train)\n",
    "\n",
    "eval_perform(Y_test,Yhat_xgboost_test, \"Prueba\")\n",
    "eval_perform(Y_train,Yhat_xgboost_train, \"Entrenamiento\")"
   ]
  }
 ],
 "metadata": {
  "kernelspec": {
   "display_name": "Python 3",
   "language": "python",
   "name": "python3"
  },
  "language_info": {
   "codemirror_mode": {
    "name": "ipython",
    "version": 3
   },
   "file_extension": ".py",
   "mimetype": "text/x-python",
   "name": "python",
   "nbconvert_exporter": "python",
   "pygments_lexer": "ipython3",
   "version": "3.11.2"
  }
 },
 "nbformat": 4,
 "nbformat_minor": 2
}
